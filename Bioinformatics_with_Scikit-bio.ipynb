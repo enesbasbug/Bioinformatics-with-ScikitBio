{
 "cells": [
  {
   "cell_type": "markdown",
   "metadata": {},
   "source": [
    "### Bioinformatics with Scikit-Bio\n",
    "+ What is Scikit-Bio?\n",
    "+ It is an open-source, BSD-licensed, python package providing data structures, algorithms, and educational resources for bioinformatics.\n",
    "\n",
    "\n",
    "### Installation\n",
    "+ pip install scikit-bio\n",
    "\n",
    "\n",
    "### Features\n",
    "+ Handling sequences: (skbio.io,skbio.sequence,skbio.alignment)\n",
    "+ Phylogenetics: (skbio.tree)\n",
    "+ Workflow Construction: (skbio.workflow)\n",
    "+ Stats and Calculations : (skbio.stats,skbio.diversity)\n",
    "+ Metadata and Utility functionality (skbio.metadata,skbio.util)\n",
    " "
   ]
  },
  {
   "cell_type": "code",
   "execution_count": 2,
   "metadata": {},
   "outputs": [],
   "source": [
    "#!pip install scikit-bio\n",
    "\n",
    "# Load Packs\n",
    "import skbio\n",
    "\n",
    "# dir(skbio)\n",
    "\n",
    "import warnings\n",
    "warnings.filterwarnings('ignore')"
   ]
  },
  {
   "cell_type": "code",
   "execution_count": null,
   "metadata": {},
   "outputs": [],
   "source": []
  },
  {
   "cell_type": "markdown",
   "metadata": {},
   "source": [
    "### Working with Sequences \n",
    "#### Sequence Analysis\n",
    "+ DNA and RNA Sequence\n",
    "    - A Adenine\n",
    "    - C Cytosine\n",
    "    - G Guanine\n",
    "    - T Thymine\n",
    "    - U Uracil * RNA\n",
    "    \n",
    "\n",
    "+ ATGATCTCGTAA\n",
    "+ ATTAAAGGTTTATACCTTCCCAGGTAACAAACCAACCAACTTTCGATCTCTTGTAGATCTGTTCTCTAAA"
   ]
  },
  {
   "cell_type": "code",
   "execution_count": 3,
   "metadata": {},
   "outputs": [
    {
     "data": {
      "text/plain": [
       "Sequence\n",
       "---------------\n",
       "Stats:\n",
       "    length: 12\n",
       "---------------\n",
       "0 ATGATCTCGT AA"
      ]
     },
     "execution_count": 3,
     "metadata": {},
     "output_type": "execute_result"
    }
   ],
   "source": [
    "from skbio import DNA,RNA,Protein,Sequence\n",
    "\n",
    "# Create a Generic Sequence\n",
    "seq1 = Sequence('ATGATCTCGTAA')\n",
    "seq1"
   ]
  },
  {
   "cell_type": "code",
   "execution_count": 4,
   "metadata": {},
   "outputs": [
    {
     "data": {
      "text/plain": [
       "'ATGATCTCGTAA'"
      ]
     },
     "execution_count": 4,
     "metadata": {},
     "output_type": "execute_result"
    }
   ],
   "source": [
    "# Method 1\n",
    "str(seq1)"
   ]
  },
  {
   "cell_type": "code",
   "execution_count": 5,
   "metadata": {},
   "outputs": [
    {
     "name": "stdout",
     "output_type": "stream",
     "text": [
      "ATGATCTCGTAA\n"
     ]
    }
   ],
   "source": [
    "print(seq1)"
   ]
  },
  {
   "cell_type": "code",
   "execution_count": 6,
   "metadata": {},
   "outputs": [
    {
     "data": {
      "text/plain": [
       "DNA\n",
       "--------------------------\n",
       "Stats:\n",
       "    length: 12\n",
       "    has gaps: False\n",
       "    has degenerates: False\n",
       "    has definites: True\n",
       "    GC-content: 33.33%\n",
       "--------------------------\n",
       "0 ATGATCTCGT AA"
      ]
     },
     "execution_count": 6,
     "metadata": {},
     "output_type": "execute_result"
    }
   ],
   "source": [
    "# Being More Specific\n",
    "dna_seq = DNA('ATGATCTCGTAA')\n",
    "dna_seq"
   ]
  },
  {
   "cell_type": "code",
   "execution_count": null,
   "metadata": {},
   "outputs": [],
   "source": []
  },
  {
   "cell_type": "markdown",
   "metadata": {},
   "source": [
    "#### Add More Metadata"
   ]
  },
  {
   "cell_type": "code",
   "execution_count": 7,
   "metadata": {},
   "outputs": [
    {
     "data": {
      "text/plain": [
       "DNA\n",
       "-----------------------------\n",
       "Metadata:\n",
       "    'description': 'GFP'\n",
       "    'id': 'my_sequence'\n",
       "Positional metadata:\n",
       "    'quality': <dtype: int64>\n",
       "Stats:\n",
       "    length: 8\n",
       "    has gaps: False\n",
       "    has degenerates: False\n",
       "    has definites: True\n",
       "    GC-content: 62.50%\n",
       "-----------------------------\n",
       "0 ACCGGGTA"
      ]
     },
     "execution_count": 7,
     "metadata": {},
     "output_type": "execute_result"
    }
   ],
   "source": [
    "d = DNA('ACCGGGTA', metadata = {'id':\"my_sequence\", 'description' : \"GFP\"},\n",
    "       positional_metadata = {'quality' : [22, 25, 22, 18, 23, 25, 25, 25]})\n",
    "\n",
    "d"
   ]
  },
  {
   "cell_type": "code",
   "execution_count": 8,
   "metadata": {},
   "outputs": [
    {
     "data": {
      "text/plain": [
       "{'-',\n",
       " '.',\n",
       " 'A',\n",
       " 'B',\n",
       " 'C',\n",
       " 'D',\n",
       " 'G',\n",
       " 'H',\n",
       " 'K',\n",
       " 'M',\n",
       " 'N',\n",
       " 'R',\n",
       " 'S',\n",
       " 'T',\n",
       " 'V',\n",
       " 'W',\n",
       " 'Y'}"
      ]
     },
     "execution_count": 8,
     "metadata": {},
     "output_type": "execute_result"
    }
   ],
   "source": [
    "dna_seq.alphabet"
   ]
  },
  {
   "cell_type": "markdown",
   "metadata": {},
   "source": [
    "#### Sequence Manipulation\n"
   ]
  },
  {
   "cell_type": "code",
   "execution_count": 9,
   "metadata": {},
   "outputs": [],
   "source": [
    "# Methods and Attributes\n",
    "# dir(dna_seq)"
   ]
  },
  {
   "cell_type": "code",
   "execution_count": 10,
   "metadata": {},
   "outputs": [
    {
     "data": {
      "text/plain": [
       "'ATGATCTCGTAA'"
      ]
     },
     "execution_count": 10,
     "metadata": {},
     "output_type": "execute_result"
    }
   ],
   "source": [
    "# To get only the data without the stats and metadata using str/print\n",
    "str(dna_seq)\n"
   ]
  },
  {
   "cell_type": "code",
   "execution_count": 11,
   "metadata": {},
   "outputs": [
    {
     "name": "stdout",
     "output_type": "stream",
     "text": [
      "ATGATCTCGTAA\n"
     ]
    },
    {
     "data": {
      "text/plain": [
       "array([b'A', b'T', b'G', b'A', b'T', b'C', b'T', b'C', b'G', b'T', b'A',\n",
       "       b'A'], dtype='|S1')"
      ]
     },
     "execution_count": 11,
     "metadata": {},
     "output_type": "execute_result"
    }
   ],
   "source": [
    "# To get only the data without the stats and metadata using str/print\n",
    "print(dna_seq)\n",
    "\n",
    "# Convert to numpy array of Nucleotides\n",
    "dna_seq.values"
   ]
  },
  {
   "cell_type": "code",
   "execution_count": 12,
   "metadata": {},
   "outputs": [
    {
     "data": {
      "text/plain": [
       "DNA\n",
       "--------------------------\n",
       "Stats:\n",
       "    length: 12\n",
       "    has gaps: False\n",
       "    has degenerates: False\n",
       "    has definites: True\n",
       "    GC-content: 33.33%\n",
       "--------------------------\n",
       "0 ATGATCTCGT AA"
      ]
     },
     "execution_count": 12,
     "metadata": {},
     "output_type": "execute_result"
    }
   ],
   "source": [
    "# Get Reverse Complement\n",
    "### GC\n",
    "### AT\n",
    "\n",
    "dna_seq"
   ]
  },
  {
   "cell_type": "code",
   "execution_count": 13,
   "metadata": {},
   "outputs": [
    {
     "data": {
      "text/plain": [
       "DNA\n",
       "--------------------------\n",
       "Stats:\n",
       "    length: 12\n",
       "    has gaps: False\n",
       "    has degenerates: False\n",
       "    has definites: True\n",
       "    GC-content: 33.33%\n",
       "--------------------------\n",
       "0 TACTAGAGCA TT"
      ]
     },
     "execution_count": 13,
     "metadata": {},
     "output_type": "execute_result"
    }
   ],
   "source": [
    "# Get Reverse Complement\n",
    "dna_seq.complement()"
   ]
  },
  {
   "cell_type": "code",
   "execution_count": 14,
   "metadata": {},
   "outputs": [
    {
     "name": "stdout",
     "output_type": "stream",
     "text": [
      "TACTAGAGCATT\n"
     ]
    }
   ],
   "source": [
    "print(dna_seq.complement())"
   ]
  },
  {
   "cell_type": "code",
   "execution_count": 15,
   "metadata": {},
   "outputs": [
    {
     "data": {
      "text/plain": [
       "'TTACGAGATCAT'"
      ]
     },
     "execution_count": 15,
     "metadata": {},
     "output_type": "execute_result"
    }
   ],
   "source": [
    "str(dna_seq.complement())[::-1]"
   ]
  },
  {
   "cell_type": "code",
   "execution_count": 16,
   "metadata": {},
   "outputs": [
    {
     "data": {
      "text/plain": [
       "2"
      ]
     },
     "execution_count": 16,
     "metadata": {},
     "output_type": "execute_result"
    }
   ],
   "source": [
    "dna_seq.count('G')"
   ]
  },
  {
   "cell_type": "code",
   "execution_count": 17,
   "metadata": {},
   "outputs": [
    {
     "data": {
      "text/plain": [
       "1"
      ]
     },
     "execution_count": 17,
     "metadata": {},
     "output_type": "execute_result"
    }
   ],
   "source": [
    "dna_seq.index('T')"
   ]
  },
  {
   "cell_type": "code",
   "execution_count": 18,
   "metadata": {},
   "outputs": [
    {
     "data": {
      "text/plain": [
       "DNA\n",
       "--------------------------\n",
       "Stats:\n",
       "    length: 3\n",
       "    has gaps: False\n",
       "    has degenerates: False\n",
       "    has definites: True\n",
       "    GC-content: 33.33%\n",
       "--------------------------\n",
       "0 ATG"
      ]
     },
     "execution_count": 18,
     "metadata": {},
     "output_type": "execute_result"
    }
   ],
   "source": [
    "dna_seq[:3]"
   ]
  },
  {
   "cell_type": "code",
   "execution_count": 19,
   "metadata": {},
   "outputs": [
    {
     "name": "stdout",
     "output_type": "stream",
     "text": [
      "ATGATCTCGTAA\n"
     ]
    }
   ],
   "source": [
    "print(dna_seq)"
   ]
  },
  {
   "cell_type": "code",
   "execution_count": 20,
   "metadata": {},
   "outputs": [
    {
     "name": "stdout",
     "output_type": "stream",
     "text": [
      "slice(0, 3, None)\n",
      "ATG\n"
     ]
    }
   ],
   "source": [
    "# Searched for arbitrary patterns using regular expressions\n",
    "for match in dna_seq.find_with_regex('(ATG+)'):\n",
    "    print(match)\n",
    "    print(str(dna_seq[match]))"
   ]
  },
  {
   "cell_type": "code",
   "execution_count": null,
   "metadata": {},
   "outputs": [],
   "source": []
  },
  {
   "cell_type": "markdown",
   "metadata": {},
   "source": [
    "#### Find Motifs\n",
    "+ In genetics, a sequence motif is a nucleotide or amino-acid sequence pattern that is widespread and has, or is conjectured to have, a biological significance. For proteins, a sequence motif is distinguished from a structural motif,\n",
    "+ a motif formed by the three-dimensional arrangement of amino acids which may or may not be adjacent.\n",
    "+ Sequence motifs are conserved sequences of similar or identical patterns that may occur within nucleic acids (DNA, RNA) or proteins either\n",
    " - within different molecules produced by the same organism or\n",
    " - within molecules from multiple species of organisms"
   ]
  },
  {
   "cell_type": "code",
   "execution_count": 21,
   "metadata": {},
   "outputs": [
    {
     "name": "stdout",
     "output_type": "stream",
     "text": [
      "ATGATCTCGTAA\n"
     ]
    }
   ],
   "source": [
    "print(dna_seq)"
   ]
  },
  {
   "cell_type": "code",
   "execution_count": 22,
   "metadata": {},
   "outputs": [
    {
     "name": "stdout",
     "output_type": "stream",
     "text": [
      "slice(2, 4, None)\n",
      "GA\n",
      "slice(10, 12, None)\n",
      "AA\n"
     ]
    }
   ],
   "source": [
    "# Find Motif\n",
    "for motif_slice in dna_seq.find_motifs('purine-run', min_length=2):\n",
    "    print(motif_slice)\n",
    "    print(str(dna_seq[motif_slice]))"
   ]
  },
  {
   "cell_type": "code",
   "execution_count": null,
   "metadata": {},
   "outputs": [],
   "source": []
  },
  {
   "cell_type": "markdown",
   "metadata": {},
   "source": [
    "#### Protein Synthesis\n",
    "+ How cells makes proteins\n",
    "+ Transcription\n",
    "+ Translation\n"
   ]
  },
  {
   "cell_type": "code",
   "execution_count": 23,
   "metadata": {},
   "outputs": [
    {
     "data": {
      "text/plain": [
       "DNA\n",
       "--------------------------\n",
       "Stats:\n",
       "    length: 12\n",
       "    has gaps: False\n",
       "    has degenerates: False\n",
       "    has definites: True\n",
       "    GC-content: 33.33%\n",
       "--------------------------\n",
       "0 ATGATCTCGT AA"
      ]
     },
     "execution_count": 23,
     "metadata": {},
     "output_type": "execute_result"
    }
   ],
   "source": [
    "dna_seq"
   ]
  },
  {
   "cell_type": "code",
   "execution_count": 24,
   "metadata": {},
   "outputs": [
    {
     "data": {
      "text/plain": [
       "RNA\n",
       "--------------------------\n",
       "Stats:\n",
       "    length: 12\n",
       "    has gaps: False\n",
       "    has degenerates: False\n",
       "    has definites: True\n",
       "    GC-content: 33.33%\n",
       "--------------------------\n",
       "0 AUGAUCUCGU AA"
      ]
     },
     "execution_count": 24,
     "metadata": {},
     "output_type": "execute_result"
    }
   ],
   "source": [
    "# Transciption : DNA to mRNA\n",
    "dna_seq.transcribe()"
   ]
  },
  {
   "cell_type": "code",
   "execution_count": 25,
   "metadata": {},
   "outputs": [
    {
     "data": {
      "text/plain": [
       "Protein\n",
       "--------------------------\n",
       "Stats:\n",
       "    length: 4\n",
       "    has gaps: False\n",
       "    has degenerates: False\n",
       "    has definites: True\n",
       "    has stops: True\n",
       "--------------------------\n",
       "0 MIS*"
      ]
     },
     "execution_count": 25,
     "metadata": {},
     "output_type": "execute_result"
    }
   ],
   "source": [
    "mRNA = dna_seq.transcribe()\n",
    "\n",
    "# translation mRNA to AA\n",
    "mRNA.translate()"
   ]
  },
  {
   "cell_type": "code",
   "execution_count": 26,
   "metadata": {},
   "outputs": [
    {
     "name": "stdout",
     "output_type": "stream",
     "text": [
      "MIS*\n"
     ]
    }
   ],
   "source": [
    "protein = mRNA.translate()\n",
    "\n",
    "print(protein)"
   ]
  },
  {
   "cell_type": "code",
   "execution_count": 27,
   "metadata": {},
   "outputs": [
    {
     "data": {
      "text/plain": [
       "Protein\n",
       "--------------------------\n",
       "Stats:\n",
       "    length: 6\n",
       "    has gaps: False\n",
       "    has degenerates: False\n",
       "    has definites: True\n",
       "    has stops: False\n",
       "--------------------------\n",
       "0 MITITV"
      ]
     },
     "execution_count": 27,
     "metadata": {},
     "output_type": "execute_result"
    }
   ],
   "source": [
    "# Create A Protein Seq\n",
    "from skbio import Protein\n",
    "protein_a = Protein('MITITV')\n",
    "protein_a"
   ]
  },
  {
   "cell_type": "code",
   "execution_count": 28,
   "metadata": {},
   "outputs": [],
   "source": [
    "# dir(protein_a)"
   ]
  },
  {
   "cell_type": "code",
   "execution_count": null,
   "metadata": {},
   "outputs": [],
   "source": []
  },
  {
   "cell_type": "markdown",
   "metadata": {},
   "source": [
    "#### Sequence Composition\n",
    "+ GC, AT content\n",
    "+ automatically calculates the gc_content"
   ]
  },
  {
   "cell_type": "code",
   "execution_count": 29,
   "metadata": {},
   "outputs": [
    {
     "data": {
      "text/plain": [
       "DNA\n",
       "--------------------------\n",
       "Stats:\n",
       "    length: 12\n",
       "    has gaps: False\n",
       "    has degenerates: False\n",
       "    has definites: True\n",
       "    GC-content: 33.33%\n",
       "--------------------------\n",
       "0 ATGATCTCGT AA"
      ]
     },
     "execution_count": 29,
     "metadata": {},
     "output_type": "execute_result"
    }
   ],
   "source": [
    "dna_seq"
   ]
  },
  {
   "cell_type": "code",
   "execution_count": 30,
   "metadata": {},
   "outputs": [
    {
     "data": {
      "text/plain": [
       "0.3333333333333333"
      ]
     },
     "execution_count": 30,
     "metadata": {},
     "output_type": "execute_result"
    }
   ],
   "source": [
    "# Get GC Frequency: Returns a percentage of GC as compared to the whole\n",
    "dna_seq.gc_content()"
   ]
  },
  {
   "cell_type": "code",
   "execution_count": 31,
   "metadata": {},
   "outputs": [
    {
     "data": {
      "text/plain": [
       "4"
      ]
     },
     "execution_count": 31,
     "metadata": {},
     "output_type": "execute_result"
    }
   ],
   "source": [
    "# Get GC Frequency: Counts the number of G and C in our Sequence\n",
    "dna_seq.gc_frequency()"
   ]
  },
  {
   "cell_type": "code",
   "execution_count": 32,
   "metadata": {},
   "outputs": [
    {
     "name": "stdout",
     "output_type": "stream",
     "text": [
      "0.5714285714285714\n",
      "4\n"
     ]
    }
   ],
   "source": [
    "# Difference Between GC_content and GC_frequency\n",
    "print(DNA('ATCGGTC').gc_content())\n",
    "print(DNA('ATCGGTC').gc_frequency())"
   ]
  },
  {
   "cell_type": "code",
   "execution_count": 33,
   "metadata": {},
   "outputs": [
    {
     "data": {
      "text/plain": [
       "2"
      ]
     },
     "execution_count": 33,
     "metadata": {},
     "output_type": "execute_result"
    }
   ],
   "source": [
    "dna_seq.count('G')"
   ]
  },
  {
   "cell_type": "code",
   "execution_count": 34,
   "metadata": {},
   "outputs": [
    {
     "data": {
      "text/plain": [
       "33.33333333333333"
      ]
     },
     "execution_count": 34,
     "metadata": {},
     "output_type": "execute_result"
    }
   ],
   "source": [
    "# Custom Fxn  GC Content\n",
    "def gc_content(seq):\n",
    "    return float(seq.count('G') + seq.count('C'))/len(seq) * 100\n",
    "\n",
    "gc_content(dna_seq)"
   ]
  },
  {
   "cell_type": "code",
   "execution_count": 35,
   "metadata": {},
   "outputs": [
    {
     "data": {
      "text/plain": [
       "4"
      ]
     },
     "execution_count": 35,
     "metadata": {},
     "output_type": "execute_result"
    }
   ],
   "source": [
    "# Custom Fxn GC Freq\n",
    "def gc_freq(seq):\n",
    "    return seq.count('G') + seq.count('C')\n",
    "\n",
    "gc_freq(dna_seq)"
   ]
  },
  {
   "cell_type": "code",
   "execution_count": 36,
   "metadata": {},
   "outputs": [
    {
     "data": {
      "text/plain": [
       "66.66666666666666"
      ]
     },
     "execution_count": 36,
     "metadata": {},
     "output_type": "execute_result"
    }
   ],
   "source": [
    "# AT Content and AT Freq\n",
    "\n",
    "# Custom Fxn  AT Content\n",
    "def at_content(seq):\n",
    "    return float(seq.count('A') + seq.count('T'))/len(seq) * 100\n",
    "\n",
    "at_content(dna_seq)"
   ]
  },
  {
   "cell_type": "code",
   "execution_count": 37,
   "metadata": {},
   "outputs": [
    {
     "data": {
      "text/plain": [
       "8"
      ]
     },
     "execution_count": 37,
     "metadata": {},
     "output_type": "execute_result"
    }
   ],
   "source": [
    "# Custom Fxn  AT Freq\n",
    "def at_freq(seq):\n",
    "    return seq.count('A') + seq.count('T')\n",
    "\n",
    "at_freq(dna_seq)"
   ]
  },
  {
   "cell_type": "code",
   "execution_count": 38,
   "metadata": {},
   "outputs": [
    {
     "data": {
      "text/plain": [
       "{'A': 4, 'C': 2, 'G': 2, 'T': 4}"
      ]
     },
     "execution_count": 38,
     "metadata": {},
     "output_type": "execute_result"
    }
   ],
   "source": [
    "# Get Frequencies of Each Nucleotide\n",
    "dna_seq.frequencies()"
   ]
  },
  {
   "cell_type": "code",
   "execution_count": 39,
   "metadata": {},
   "outputs": [
    {
     "data": {
      "text/plain": [
       "Counter({'A': 4, 'T': 4, 'G': 2, 'C': 2})"
      ]
     },
     "execution_count": 39,
     "metadata": {},
     "output_type": "execute_result"
    }
   ],
   "source": [
    "# Custom Fxn Method 1\n",
    "from collections import Counter\n",
    "Counter(str(dna_seq))"
   ]
  },
  {
   "cell_type": "code",
   "execution_count": null,
   "metadata": {},
   "outputs": [],
   "source": []
  },
  {
   "cell_type": "markdown",
   "metadata": {},
   "source": [
    "#### Plot"
   ]
  },
  {
   "cell_type": "code",
   "execution_count": 40,
   "metadata": {},
   "outputs": [
    {
     "data": {
      "text/plain": [
       "<BarContainer object of 4 artists>"
      ]
     },
     "execution_count": 40,
     "metadata": {},
     "output_type": "execute_result"
    },
    {
     "data": {
      "image/png": "[encoded data removed]",
      "text/plain": [
       "<Figure size 432x288 with 1 Axes>"
      ]
     },
     "metadata": {
      "needs_background": "light"
     },
     "output_type": "display_data"
    }
   ],
   "source": [
    "### Plot of N Freq\n",
    "import matplotlib.pyplot as plt\n",
    "\n",
    "plt.bar(dna_seq.frequencies().keys(),dna_seq.frequencies().values())"
   ]
  },
  {
   "cell_type": "code",
   "execution_count": 41,
   "metadata": {},
   "outputs": [
    {
     "data": {
      "text/plain": [
       "{'C': 0.16666666666666666, 'A': 0.3333333333333333}"
      ]
     },
     "execution_count": 41,
     "metadata": {},
     "output_type": "execute_result"
    }
   ],
   "source": [
    "# Check for The Freq of A Specific N\n",
    "dna_seq.frequencies(chars={'A','C'},relative=True)"
   ]
  },
  {
   "cell_type": "code",
   "execution_count": null,
   "metadata": {},
   "outputs": [],
   "source": []
  },
  {
   "cell_type": "markdown",
   "metadata": {},
   "source": [
    "### Kmers\n",
    "+ k-mers are subsequences of length contained within a biological sequence. \n",
    "+ More generally, a sequence of length \n",
    " - L will have `L-k+1` k-mers and `n^K` total possible k-mers, \n",
    " - where n is number of possible monomers\n",
    " \n",
    "#### Similar to ngrams in NLP\n",
    " \n",
    "##### Usefulness\n",
    "+  assemble DNA sequences,\n",
    "+ improve heterologous gene expression,\n",
    "+ identify species in metagenomic samples\n",
    "+ create attenuated vaccines\n",
    "\n",
    "![](./images/kmerimage.png)"
   ]
  },
  {
   "cell_type": "code",
   "execution_count": 42,
   "metadata": {},
   "outputs": [
    {
     "name": "stdout",
     "output_type": "stream",
     "text": [
      "ATGATCTCGTAA\n"
     ]
    }
   ],
   "source": [
    "print(dna_seq)"
   ]
  },
  {
   "cell_type": "code",
   "execution_count": 43,
   "metadata": {},
   "outputs": [
    {
     "data": {
      "text/plain": [
       "{'ATG': 1,\n",
       " 'TGA': 1,\n",
       " 'GAT': 1,\n",
       " 'ATC': 1,\n",
       " 'TCT': 1,\n",
       " 'CTC': 1,\n",
       " 'TCG': 1,\n",
       " 'CGT': 1,\n",
       " 'GTA': 1,\n",
       " 'TAA': 1}"
      ]
     },
     "execution_count": 43,
     "metadata": {},
     "output_type": "execute_result"
    }
   ],
   "source": [
    "# Find Kmers\n",
    "dna_seq.kmer_frequencies(3)"
   ]
  },
  {
   "cell_type": "code",
   "execution_count": 44,
   "metadata": {},
   "outputs": [
    {
     "data": {
      "text/plain": [
       "{'ATGA': 1,\n",
       " 'TGAT': 1,\n",
       " 'GATC': 1,\n",
       " 'ATCT': 1,\n",
       " 'TCTC': 1,\n",
       " 'CTCG': 1,\n",
       " 'TCGT': 1,\n",
       " 'CGTA': 1,\n",
       " 'GTAA': 1}"
      ]
     },
     "execution_count": 44,
     "metadata": {},
     "output_type": "execute_result"
    }
   ],
   "source": [
    "# Find Kmers\n",
    "dna_seq.kmer_frequencies(4)"
   ]
  },
  {
   "cell_type": "code",
   "execution_count": 45,
   "metadata": {},
   "outputs": [
    {
     "data": {
      "text/plain": [
       "{'ATG': 1,\n",
       " 'TGA': 1,\n",
       " 'GAT': 1,\n",
       " 'ATC': 1,\n",
       " 'TCT': 1,\n",
       " 'CTC': 1,\n",
       " 'TCG': 1,\n",
       " 'CGT': 1,\n",
       " 'GTA': 1,\n",
       " 'TAA': 1}"
      ]
     },
     "execution_count": 45,
     "metadata": {},
     "output_type": "execute_result"
    }
   ],
   "source": [
    "# Custom Fxn KMer\n",
    "# L - k+1\n",
    "def count_kmers(seq,k=3):\n",
    "    # Empty Dictionary\n",
    "    counts = {}\n",
    "    num_kmers = len(seq) - k + 1\n",
    "    for i in range(num_kmers):\n",
    "        # Slicing the seq to get the kmer\n",
    "        kmer  = seq[i:i+k]\n",
    "        if kmer not in counts:\n",
    "            counts[kmer] = 0\n",
    "        # increment\n",
    "        #counts[kmer]  = counts[kmer] + 1\n",
    "        counts[kmer] += 1\n",
    "    return counts\n",
    "\n",
    "count_kmers(str(dna_seq))"
   ]
  },
  {
   "cell_type": "code",
   "execution_count": 46,
   "metadata": {},
   "outputs": [
    {
     "data": {
      "text/plain": [
       "{'ATGA': 1,\n",
       " 'TGAT': 1,\n",
       " 'GATC': 1,\n",
       " 'ATCT': 1,\n",
       " 'TCTC': 1,\n",
       " 'CTCG': 1,\n",
       " 'TCGT': 1,\n",
       " 'CGTA': 1,\n",
       " 'GTAA': 1}"
      ]
     },
     "execution_count": 46,
     "metadata": {},
     "output_type": "execute_result"
    }
   ],
   "source": [
    "count_kmers(str(dna_seq),k=4)"
   ]
  },
  {
   "cell_type": "code",
   "execution_count": 47,
   "metadata": {},
   "outputs": [
    {
     "name": "stdout",
     "output_type": "stream",
     "text": [
      "ATG\n",
      "TGA\n",
      "GAT\n",
      "ATC\n",
      "TCT\n",
      "CTC\n",
      "TCG\n",
      "CGT\n",
      "GTA\n",
      "TAA\n"
     ]
    }
   ],
   "source": [
    "# iterating through a kmer\n",
    "for k in dna_seq.iter_kmers(3,overlap=True):\n",
    "    print(k)"
   ]
  },
  {
   "cell_type": "code",
   "execution_count": 48,
   "metadata": {},
   "outputs": [],
   "source": [
    "# Kmer Freq\n",
    "dna_kfreq = dna_seq.kmer_frequencies(3)"
   ]
  },
  {
   "cell_type": "code",
   "execution_count": 49,
   "metadata": {},
   "outputs": [],
   "source": [
    "dna_seq1 = DNA('ATTAAAGGTTTATACCTTCCCAGGTAACAAACCAACCAACTTTCGATCTCTTGTAGATCTGTTCTCTAAA')\n"
   ]
  },
  {
   "cell_type": "code",
   "execution_count": 50,
   "metadata": {},
   "outputs": [
    {
     "data": {
      "text/plain": [
       "<BarContainer object of 10 artists>"
      ]
     },
     "execution_count": 50,
     "metadata": {},
     "output_type": "execute_result"
    },
    {
     "data": {
      "image/png": "[encoded data removed]",
      "text/plain": [
       "<Figure size 432x288 with 1 Axes>"
      ]
     },
     "metadata": {
      "needs_background": "light"
     },
     "output_type": "display_data"
    }
   ],
   "source": [
    "# Plot of Kmers Freq\n",
    "plt.bar(dna_kfreq.keys(),dna_kfreq.values())"
   ]
  },
  {
   "cell_type": "code",
   "execution_count": 51,
   "metadata": {},
   "outputs": [
    {
     "data": {
      "text/plain": [
       "DNA\n",
       "--------------------------------------------------------------------\n",
       "Stats:\n",
       "    length: 70\n",
       "    has gaps: False\n",
       "    has degenerates: False\n",
       "    has definites: True\n",
       "    GC-content: 35.71%\n",
       "--------------------------------------------------------------------\n",
       "0  ATTAAAGGTT TATACCTTCC CAGGTAACAA ACCAACCAAC TTTCGATCTC TTGTAGATCT\n",
       "60 GTTCTCTAAA"
      ]
     },
     "execution_count": 51,
     "metadata": {},
     "output_type": "execute_result"
    }
   ],
   "source": [
    "dna_seq1"
   ]
  },
  {
   "cell_type": "code",
   "execution_count": 52,
   "metadata": {},
   "outputs": [],
   "source": [
    "# Kmer Freq\n",
    "dna1_kfreq = dna_seq1.kmer_frequencies(3)"
   ]
  },
  {
   "cell_type": "code",
   "execution_count": 53,
   "metadata": {},
   "outputs": [
    {
     "data": {
      "text/plain": [
       "<BarContainer object of 37 artists>"
      ]
     },
     "execution_count": 53,
     "metadata": {},
     "output_type": "execute_result"
    },
    {
     "data": {
      "image/png": "[encoded data removed]",
      "text/plain": [
       "<Figure size 1296x432 with 1 Axes>"
      ]
     },
     "metadata": {
      "needs_background": "light"
     },
     "output_type": "display_data"
    }
   ],
   "source": [
    "# Plot of Kmers Freq\n",
    "plt.figure(figsize=(18,6))\n",
    "plt.bar(dna1_kfreq.keys(),dna1_kfreq.values())"
   ]
  },
  {
   "cell_type": "markdown",
   "metadata": {},
   "source": [
    "#### Checking Distance Between Sequence / Similarity\n",
    "+ Hamming distance\n",
    " - Must have the same length\n",
    "+ Check dissimilarity\n",
    "![](./images/aligngap.png)\n",
    "+ For use in sequence clustering, phylogenetic reconstruction\n",
    "+ Mismatch and Match Frequency\n",
    "+ Kmer-Distance"
   ]
  },
  {
   "cell_type": "code",
   "execution_count": 54,
   "metadata": {},
   "outputs": [],
   "source": [
    "seq1 = DNA('ACTATCAGT')\n",
    "seq2 = DNA('ACTTACAGT')"
   ]
  },
  {
   "cell_type": "code",
   "execution_count": 55,
   "metadata": {},
   "outputs": [
    {
     "data": {
      "text/plain": [
       "7"
      ]
     },
     "execution_count": 55,
     "metadata": {},
     "output_type": "execute_result"
    }
   ],
   "source": [
    "# Calculate the matches/mismatches frequency\n",
    "seq1.match_frequency(seq2)"
   ]
  },
  {
   "cell_type": "code",
   "execution_count": 56,
   "metadata": {},
   "outputs": [
    {
     "data": {
      "text/plain": [
       "array([ True,  True,  True, False, False,  True,  True,  True,  True])"
      ]
     },
     "execution_count": 56,
     "metadata": {},
     "output_type": "execute_result"
    }
   ],
   "source": [
    "# Calculate the matches/mismatches as boolean\n",
    "seq1.matches(seq2)"
   ]
  },
  {
   "cell_type": "code",
   "execution_count": 57,
   "metadata": {},
   "outputs": [
    {
     "data": {
      "text/plain": [
       "2"
      ]
     },
     "execution_count": 57,
     "metadata": {},
     "output_type": "execute_result"
    }
   ],
   "source": [
    "# Calculate the matches/mismatches frequency\n",
    "seq1.mismatch_frequency(seq2)"
   ]
  },
  {
   "cell_type": "code",
   "execution_count": 58,
   "metadata": {},
   "outputs": [
    {
     "data": {
      "text/plain": [
       "array([False, False, False,  True,  True, False, False, False, False])"
      ]
     },
     "execution_count": 58,
     "metadata": {},
     "output_type": "execute_result"
    }
   ],
   "source": [
    "# Calculate the matches/mismatches as boolean\n",
    "seq1.mismatches(seq2)"
   ]
  },
  {
   "cell_type": "markdown",
   "metadata": {},
   "source": [
    "#### Hamming distance: shows how many places 2 strings differ\n",
    "\n",
    "+ Hamming distance between two strings of equal length is the number of positions at which the corresponding symbols are different.\n",
    "+ In other words, it measures the minimum number of substitutions required to change one string into the other, or the minimum number of errors that could have transformed one string into the othe\n",
    "+ It is used for error detection or error correction\n",
    "+ It is used to quantify the similarity of DNA sequences,\n",
    "+ For checking the edit distance\n",
    "        edit distance is a way of quantifying how dissimilar two strings (e.g., words) are to one another by counting the minimum number of operations required to transform one string into the other.\n",
    "        eg Levenshtein distance"
   ]
  },
  {
   "cell_type": "code",
   "execution_count": 59,
   "metadata": {},
   "outputs": [
    {
     "data": {
      "text/plain": [
       "0.2222222222222222"
      ]
     },
     "execution_count": 59,
     "metadata": {},
     "output_type": "execute_result"
    }
   ],
   "source": [
    "# hamming distance\n",
    "seq1.distance(seq2)"
   ]
  },
  {
   "cell_type": "code",
   "execution_count": 60,
   "metadata": {},
   "outputs": [
    {
     "data": {
      "text/plain": [
       "2"
      ]
     },
     "execution_count": 60,
     "metadata": {},
     "output_type": "execute_result"
    }
   ],
   "source": [
    "# Custom Hamming Distance Fxn\n",
    "def hamming_distance(lhs,rhs):\n",
    "    return len([(x,y) for x,y in zip(lhs,rhs) if x != y])\n",
    "\n",
    "hamming_distance(seq1,seq2)"
   ]
  },
  {
   "cell_type": "markdown",
   "metadata": {},
   "source": [
    "#### Kmer Distance\n",
    "+ The kmer distance between two sequences is the fraction of kmers that are unique to either sequence.\n",
    "+ Find kmers that are not found in each sequence orare dissimilar in each aka the sum of the non-intersection\n",
    "+ Using set ^ set for dissimilar/symmetric_difference"
   ]
  },
  {
   "cell_type": "code",
   "execution_count": 61,
   "metadata": {},
   "outputs": [
    {
     "data": {
      "text/plain": [
       "{'ACT': 1, 'CTA': 1, 'TAT': 1, 'ATC': 1, 'TCA': 1, 'CAG': 1, 'AGT': 1}"
      ]
     },
     "execution_count": 61,
     "metadata": {},
     "output_type": "execute_result"
    }
   ],
   "source": [
    "# Kmer distance\n",
    "from skbio.sequence.distance import kmer_distance\n",
    "\n",
    "# Kmers freq in Seq\n",
    "seq1.kmer_frequencies(3)"
   ]
  },
  {
   "cell_type": "code",
   "execution_count": 62,
   "metadata": {},
   "outputs": [
    {
     "data": {
      "text/plain": [
       "{'ACT': 1, 'CTT': 1, 'TTA': 1, 'TAC': 1, 'ACA': 1, 'CAG': 1, 'AGT': 1}"
      ]
     },
     "execution_count": 62,
     "metadata": {},
     "output_type": "execute_result"
    }
   ],
   "source": [
    "# Kmers freq in Seq\n",
    "seq2.kmer_frequencies(3)"
   ]
  },
  {
   "cell_type": "code",
   "execution_count": 63,
   "metadata": {},
   "outputs": [
    {
     "data": {
      "text/plain": [
       "0.7272727272727273"
      ]
     },
     "execution_count": 63,
     "metadata": {},
     "output_type": "execute_result"
    }
   ],
   "source": [
    "# Get the kmer distance\n",
    "kmer_distance(seq1,seq2,k=3)"
   ]
  },
  {
   "cell_type": "markdown",
   "metadata": {},
   "source": [
    "### Custom Fxn For Kmer Distance\n",
    "+ Set\n",
    "+ Intersection\n",
    "+ Dissimilar Set"
   ]
  },
  {
   "cell_type": "code",
   "execution_count": 64,
   "metadata": {},
   "outputs": [],
   "source": [
    "# Method 1\n",
    "def custom_kmer_distance(seq1,seq2):\n",
    "    seq1_set = set(seq1)\n",
    "    seq2_set = set(seq2)\n",
    "    union_seq = seq1_set.union(seq2_set)\n",
    "    intersection_seq = seq1_set.intersection(seq2_set)\n",
    "    disimilarity = len(union_seq) - len(intersection_seq)\n",
    "    print(disimilarity)\n",
    "    distance = disimilarity/len(union_seq)\n",
    "    return distance\n",
    "    "
   ]
  },
  {
   "cell_type": "code",
   "execution_count": 65,
   "metadata": {},
   "outputs": [],
   "source": [
    "# Kmers freq in our seq\n",
    "seq1_k = seq1.kmer_frequencies(3).keys()\n",
    "\n",
    "# Kmers freq in our seq\n",
    "seq2_k = seq2.kmer_frequencies(3).keys()"
   ]
  },
  {
   "cell_type": "code",
   "execution_count": 66,
   "metadata": {},
   "outputs": [
    {
     "name": "stdout",
     "output_type": "stream",
     "text": [
      "8\n"
     ]
    },
    {
     "data": {
      "text/plain": [
       "0.7272727272727273"
      ]
     },
     "execution_count": 66,
     "metadata": {},
     "output_type": "execute_result"
    }
   ],
   "source": [
    "custom_kmer_distance(seq1_k,seq2_k)"
   ]
  },
  {
   "cell_type": "code",
   "execution_count": 67,
   "metadata": {},
   "outputs": [],
   "source": [
    "# Method 2\n",
    "def custom_kmer_distance2(seq1,seq2):\n",
    "    seq1_set = set(seq1)\n",
    "    seq2_set = set(seq2)\n",
    "    union_seq = seq1_set.union(seq2_set)\n",
    "    disimilarity = seq1_set ^ seq2_set\n",
    "    print(disimilarity)\n",
    "    distance = len(disimilarity)/len(union_seq)\n",
    "    return distance\n",
    "    "
   ]
  },
  {
   "cell_type": "code",
   "execution_count": 68,
   "metadata": {},
   "outputs": [
    {
     "name": "stdout",
     "output_type": "stream",
     "text": [
      "{'CTT', 'TAT', 'ACA', 'TCA', 'CTA', 'ATC', 'TTA', 'TAC'}\n"
     ]
    },
    {
     "data": {
      "text/plain": [
       "0.7272727272727273"
      ]
     },
     "execution_count": 68,
     "metadata": {},
     "output_type": "execute_result"
    }
   ],
   "source": [
    "custom_kmer_distance2(seq1_k,seq2_k)"
   ]
  },
  {
   "cell_type": "code",
   "execution_count": 69,
   "metadata": {},
   "outputs": [
    {
     "data": {
      "text/plain": [
       "{'ACA', 'ATC', 'CTA', 'CTT', 'TAC', 'TAT', 'TCA', 'TTA'}"
      ]
     },
     "execution_count": 69,
     "metadata": {},
     "output_type": "execute_result"
    }
   ],
   "source": [
    "# Symmetric Difference\n",
    "set(seq1_k).symmetric_difference(set(seq2_k))"
   ]
  },
  {
   "cell_type": "code",
   "execution_count": null,
   "metadata": {},
   "outputs": [],
   "source": []
  },
  {
   "cell_type": "markdown",
   "metadata": {},
   "source": [
    "### Sequence Alignment\n",
    "+ Global : Needle\n",
    "+ Local : Smith-Waterman\n",
    "+ Terms\n",
    "    - Matches\n",
    "    + Mismatch\n",
    "    + Gaps\n",
    "\n",
    "![](./images/aligngap.png)\n",
    "\n",
    "![](./images/localvsglobalalignment.jpg)"
   ]
  },
  {
   "cell_type": "code",
   "execution_count": 70,
   "metadata": {},
   "outputs": [],
   "source": [
    "# Import Alignment\n",
    "import skbio.alignment as align\n",
    "\n",
    "# dir(align)"
   ]
  },
  {
   "cell_type": "code",
   "execution_count": 71,
   "metadata": {},
   "outputs": [
    {
     "name": "stdout",
     "output_type": "stream",
     "text": [
      "ACTATCAGT\n",
      "ACTTACAGT\n"
     ]
    }
   ],
   "source": [
    "# Local Alignment\n",
    "print(seq1)\n",
    "print(seq2)\n",
    "seq3 = DNA('ACTTAC')"
   ]
  },
  {
   "cell_type": "code",
   "execution_count": 72,
   "metadata": {},
   "outputs": [],
   "source": [
    "# Local Alignment StripedSmithWaterman\n",
    "alignment,score,start_end_positions = align.local_pairwise_align_ssw(seq1,seq2)\n"
   ]
  },
  {
   "cell_type": "code",
   "execution_count": 73,
   "metadata": {},
   "outputs": [
    {
     "data": {
      "text/plain": [
       "8"
      ]
     },
     "execution_count": 73,
     "metadata": {},
     "output_type": "execute_result"
    }
   ],
   "source": [
    "score"
   ]
  },
  {
   "cell_type": "code",
   "execution_count": 74,
   "metadata": {},
   "outputs": [
    {
     "data": {
      "text/plain": [
       "TabularMSA[DNA]\n",
       "---------------------\n",
       "Stats:\n",
       "    sequence count: 2\n",
       "    position count: 4\n",
       "---------------------\n",
       "CAGT\n",
       "CAGT"
      ]
     },
     "execution_count": 74,
     "metadata": {},
     "output_type": "execute_result"
    }
   ],
   "source": [
    "# get the alignment\n",
    "alignment"
   ]
  },
  {
   "cell_type": "code",
   "execution_count": 75,
   "metadata": {},
   "outputs": [
    {
     "data": {
      "text/plain": [
       "[(5, 8), (5, 8)]"
      ]
     },
     "execution_count": 75,
     "metadata": {},
     "output_type": "execute_result"
    }
   ],
   "source": [
    "# Get Postions\n",
    "start_end_positions"
   ]
  },
  {
   "cell_type": "code",
   "execution_count": 76,
   "metadata": {},
   "outputs": [],
   "source": [
    "# GLobal Aligment StripedSmithWaterman\n",
    "glb_alignment,glb_score,glb_start_end_positions = align.global_pairwise_align_nucleotide(seq1,seq2)\n"
   ]
  },
  {
   "cell_type": "code",
   "execution_count": 77,
   "metadata": {},
   "outputs": [
    {
     "data": {
      "text/plain": [
       "TabularMSA[DNA]\n",
       "---------------------\n",
       "Stats:\n",
       "    sequence count: 2\n",
       "    position count: 9\n",
       "---------------------\n",
       "ACTATCAGT\n",
       "ACTTACAGT"
      ]
     },
     "execution_count": 77,
     "metadata": {},
     "output_type": "execute_result"
    }
   ],
   "source": [
    "glb_alignment"
   ]
  },
  {
   "cell_type": "code",
   "execution_count": 78,
   "metadata": {},
   "outputs": [
    {
     "data": {
      "text/plain": [
       "3.0"
      ]
     },
     "execution_count": 78,
     "metadata": {},
     "output_type": "execute_result"
    }
   ],
   "source": [
    "glb_score"
   ]
  },
  {
   "cell_type": "code",
   "execution_count": 79,
   "metadata": {},
   "outputs": [],
   "source": [
    "# Dissimilar seq length\n",
    "# GLobal Aligment StripedSmithWaterman\n",
    "glb_alignment,glb_score,glb_start_end_positions = align.global_pairwise_align_nucleotide(seq1,seq3)\n",
    "\n"
   ]
  },
  {
   "cell_type": "code",
   "execution_count": 80,
   "metadata": {},
   "outputs": [
    {
     "data": {
      "text/plain": [
       "TabularMSA[DNA]\n",
       "----------------------\n",
       "Stats:\n",
       "    sequence count: 2\n",
       "    position count: 13\n",
       "----------------------\n",
       "----ACTATCAGT\n",
       "ACTTAC-------"
      ]
     },
     "execution_count": 80,
     "metadata": {},
     "output_type": "execute_result"
    }
   ],
   "source": [
    "glb_alignment"
   ]
  },
  {
   "cell_type": "code",
   "execution_count": 81,
   "metadata": {},
   "outputs": [
    {
     "data": {
      "text/plain": [
       "2.0"
      ]
     },
     "execution_count": 81,
     "metadata": {},
     "output_type": "execute_result"
    }
   ],
   "source": [
    "glb_score"
   ]
  },
  {
   "cell_type": "code",
   "execution_count": null,
   "metadata": {},
   "outputs": [],
   "source": []
  },
  {
   "cell_type": "markdown",
   "metadata": {},
   "source": [
    "#### Comparing Protein Sequence Alignment"
   ]
  },
  {
   "cell_type": "code",
   "execution_count": 82,
   "metadata": {},
   "outputs": [],
   "source": [
    "from skbio import Protein\n",
    "\n",
    "p1 = Protein('MITITV')\n",
    "p2 = Protein('ITITV')"
   ]
  },
  {
   "cell_type": "code",
   "execution_count": 83,
   "metadata": {},
   "outputs": [],
   "source": [
    "local_alignment_protein  = align.local_pairwise_align_protein(p1,p2)"
   ]
  },
  {
   "cell_type": "code",
   "execution_count": 84,
   "metadata": {},
   "outputs": [
    {
     "data": {
      "text/plain": [
       "(TabularMSA[Protein]\n",
       " ---------------------\n",
       " Stats:\n",
       "     sequence count: 2\n",
       "     position count: 5\n",
       " ---------------------\n",
       " ITITV\n",
       " ITITV,\n",
       " 25.0,\n",
       " [(1, 5), (0, 4)])"
      ]
     },
     "execution_count": 84,
     "metadata": {},
     "output_type": "execute_result"
    }
   ],
   "source": [
    "local_alignment_protein "
   ]
  },
  {
   "cell_type": "code",
   "execution_count": null,
   "metadata": {},
   "outputs": [],
   "source": []
  },
  {
   "cell_type": "markdown",
   "metadata": {},
   "source": [
    "### Phylogenetics\n",
    "+ Phylogenetics: study of evolutionary history and relationships among entities\n",
    "+ A Phylo Tree/Evolutionary Tree is a branching diagram or tree showing the evolutionary relationships among various\n",
    "species or entities based on similarity and differences in their physical or genetic characteristics\n",
    "\n",
    "+ Newick Format\n",
    "+ Nexus\n",
    "+ PhyloXML\n",
    "\n",
    "#### Terms\n",
    "+ (;)The semi-colon creates a root node to its left. \n",
    "    - Recall that there can only be one root in a tree.\n",
    "+ (,)The comma which creates a node to its right. \n",
    "+  (( )) The paired parenthesis provide  relationships,\n",
    "+ Placing ( ) in a node’s location will create a child inside the parenthesis on the left-most inner edge.\n",
    "+ children <= node <= root\n",
    "\n",
    "+ \"((grand_child, grand_child)Brother, Children)rootParent;\"\n",
    "+ \"((Enoch,Awan)Seth,Cain,Abel)Adam;\"\n",
    "\n",
    "![](./images/noahfamilytree.jpg)"
   ]
  },
  {
   "cell_type": "markdown",
   "metadata": {},
   "source": [
    "### Terms\n",
    "+ There are several symbols which define nodes, the first of which is the semi-colon (;). The semi-colon creates a root node to its left. Recall that there can only be one root in a tree.\n",
    "\n",
    "The next symbol is the comma (,), which creates a node to its right. However, these two alone are not enough. For example imagine the following string: , , , ;. It is evident that there is a root, but the other 3 nodes, defined by commas, have no relationship. For this reason, it is not a valid Newick string to have more than one node at the root level.\n",
    "\n",
    "To provide these relationships, there is another structure: paired parenthesis (( )). These are inserted at the location of an existing node and give it the ability to have children. Placing ( ) in a node’s location will create a child inside the parenthesis on the left-most inner edge."
   ]
  },
  {
   "cell_type": "markdown",
   "metadata": {},
   "source": [
    "```python\n",
    ">>> from io import StringIO\n",
    ">>> from skbio import read\n",
    ">>> from skbio.tree import TreeNode\n",
    ">>> f = StringIO(\"((D, E)B, (F, G)C)A;\")\n",
    ">>> tree = read(f, format=\"newick\", into=TreeNode)\n",
    ">>> f.close()\n",
    ">>> print(tree.ascii_art())\n",
    "                    /-D\n",
    "          /B-------|\n",
    "         |          \\-E\n",
    "-A-------|\n",
    "         |          /-F\n",
    "          \\C-------|\n",
    "        \n",
    "### Method 2\n",
    ">>> from io import StringIO\n",
    ">>> from skbio import read\n",
    ">>> from skbio.tree import TreeNode\n",
    ">>> f = StringIO(\"((D, E)B, (F, G)C)A;\")\n",
    ">>> tree = read(f, format=\"newick\", into=TreeNode)\n",
    ">>> f.close()\n",
    ">>> print(tree.ascii_art())\n",
    "                    /-D\n",
    "          /B-------|\n",
    "         |          \\-E\n",
    "-A-------|\n",
    "         |          /-F\n",
    "          \\C-------|\n",
    "                    \\-G                    \\-G\n",
    "            \n",
    "```"
   ]
  },
  {
   "cell_type": "code",
   "execution_count": 85,
   "metadata": {},
   "outputs": [
    {
     "data": {
      "text/plain": [
       "'((grand_child, grand_child)Brother, Child)rootParent;'"
      ]
     },
     "execution_count": 85,
     "metadata": {},
     "output_type": "execute_result"
    }
   ],
   "source": [
    "\"((grand_child, grand_child)Brother, Child)rootParent;\""
   ]
  },
  {
   "cell_type": "code",
   "execution_count": 86,
   "metadata": {},
   "outputs": [
    {
     "data": {
      "text/plain": [
       "True"
      ]
     },
     "execution_count": 86,
     "metadata": {},
     "output_type": "execute_result"
    }
   ],
   "source": [
    "from skbio import TreeNode\n",
    "from io import StringIO\n",
    "\n",
    "# Example 2\n",
    "# Create A TreeNode\n",
    "noah_tree = TreeNode.read(StringIO(\"((Magog,Madia,Javan, Gomer)Japheth,(Israel,Arphaxad)Shem,(Cush,Egypt,Phut,Canaan)Ham)root;\"))\n",
    "\n",
    "# Check if this is a root\n",
    "noah_tree.is_root()"
   ]
  },
  {
   "cell_type": "code",
   "execution_count": 87,
   "metadata": {},
   "outputs": [
    {
     "data": {
      "text/plain": [
       "False"
      ]
     },
     "execution_count": 87,
     "metadata": {},
     "output_type": "execute_result"
    }
   ],
   "source": [
    "# Check for if tip\n",
    "noah_tree.is_tip()"
   ]
  },
  {
   "cell_type": "code",
   "execution_count": 88,
   "metadata": {},
   "outputs": [
    {
     "name": "stdout",
     "output_type": "stream",
     "text": [
      "                    /-Magog\n",
      "                   |\n",
      "                   |--Madia\n",
      "          /Japheth-|\n",
      "         |         |--Javan\n",
      "         |         |\n",
      "         |          \\-Gomer\n",
      "         |\n",
      "         |          /-Israel\n",
      "-root----|-Shem----|\n",
      "         |          \\-Arphaxad\n",
      "         |\n",
      "         |          /-Cush\n",
      "         |         |\n",
      "         |         |--Egypt\n",
      "          \\Ham-----|\n",
      "                   |--Phut\n",
      "                   |\n",
      "                    \\-Canaan\n"
     ]
    }
   ],
   "source": [
    "# In A Dendogam\n",
    "print(noah_tree.ascii_art())"
   ]
  },
  {
   "cell_type": "markdown",
   "metadata": {},
   "source": [
    "![](./images/noahfamilytree.jpg)"
   ]
  },
  {
   "cell_type": "code",
   "execution_count": 90,
   "metadata": {},
   "outputs": [],
   "source": [
    "# dir(noah_tree)"
   ]
  },
  {
   "cell_type": "code",
   "execution_count": 91,
   "metadata": {},
   "outputs": [
    {
     "data": {
      "text/plain": [
       "[<TreeNode, name: Japheth, internal node count: 0, tips count: 4>,\n",
       " <TreeNode, name: Shem, internal node count: 0, tips count: 2>,\n",
       " <TreeNode, name: Ham, internal node count: 0, tips count: 4>]"
      ]
     },
     "execution_count": 91,
     "metadata": {},
     "output_type": "execute_result"
    }
   ],
   "source": [
    "noah_tree.children"
   ]
  },
  {
   "cell_type": "code",
   "execution_count": 92,
   "metadata": {},
   "outputs": [
    {
     "data": {
      "text/plain": [
       "14"
      ]
     },
     "execution_count": 92,
     "metadata": {},
     "output_type": "execute_result"
    }
   ],
   "source": [
    "noah_tree.count()"
   ]
  },
  {
   "cell_type": "code",
   "execution_count": 93,
   "metadata": {},
   "outputs": [
    {
     "data": {
      "text/plain": [
       "<bound method TreeNode.lowest_common_ancestor of <TreeNode, name: root, internal node count: 3, tips count: 10>>"
      ]
     },
     "execution_count": 93,
     "metadata": {},
     "output_type": "execute_result"
    }
   ],
   "source": [
    "noah_tree.lowest_common_ancestor"
   ]
  },
  {
   "cell_type": "code",
   "execution_count": 94,
   "metadata": {},
   "outputs": [
    {
     "data": {
      "text/plain": [
       "'(((Methu)Enoch,Awan)Seth,Cain,Abel)Adam;'"
      ]
     },
     "execution_count": 94,
     "metadata": {},
     "output_type": "execute_result"
    }
   ],
   "source": [
    "# Example 2\n",
    "\"(((Methu)Enoch,Awan)Seth,Cain,Abel)Adam;\""
   ]
  },
  {
   "cell_type": "code",
   "execution_count": 95,
   "metadata": {},
   "outputs": [],
   "source": [
    "# Example 2\n",
    "# Create A TreeNode\n",
    "adam_tree = TreeNode.read(StringIO(\"(((Methu)Enoch,Awan)Seth,Cain,Abel)Adam;\"))"
   ]
  },
  {
   "cell_type": "code",
   "execution_count": 96,
   "metadata": {},
   "outputs": [
    {
     "name": "stdout",
     "output_type": "stream",
     "text": [
      "                    /Enoch--- /-Methu\n",
      "          /Seth----|\n",
      "         |          \\-Awan\n",
      "-Adam----|\n",
      "         |--Cain\n",
      "         |\n",
      "          \\-Abel\n"
     ]
    }
   ],
   "source": [
    "print(adam_tree.ascii_art())"
   ]
  },
  {
   "cell_type": "code",
   "execution_count": null,
   "metadata": {},
   "outputs": [],
   "source": []
  },
  {
   "cell_type": "markdown",
   "metadata": {},
   "source": [
    "### Reading Files\n",
    "+ FASTA\n",
    "+ GENBANK\n",
    "+ NEWICK\n",
    "+etc"
   ]
  },
  {
   "cell_type": "code",
   "execution_count": 98,
   "metadata": {},
   "outputs": [
    {
     "name": "stdout",
     "output_type": "stream",
     "text": [
      "<generator object IORegistry.read.<locals>.<genexpr> at 0x7f8af41cedd0>\n"
     ]
    }
   ],
   "source": [
    "# Load pkg\n",
    "import skbio.io\n",
    "\n",
    "# Reading A FASTA file\n",
    "# Method 1\n",
    "seq_file = skbio.io.read(\"./datasets/sequence.fasta\", format='fasta')\n",
    "\n",
    "\n",
    "print(seq_file)"
   ]
  },
  {
   "cell_type": "code",
   "execution_count": 100,
   "metadata": {},
   "outputs": [],
   "source": [
    "# for i in seq_file:\n",
    "#     print(i)"
   ]
  },
  {
   "cell_type": "code",
   "execution_count": 101,
   "metadata": {},
   "outputs": [],
   "source": [
    "from skbio import DNA,Sequence\n"
   ]
  },
  {
   "cell_type": "code",
   "execution_count": 102,
   "metadata": {},
   "outputs": [
    {
     "data": {
      "text/plain": [
       "Sequence\n",
       "-----------------------------------------------------------------------\n",
       "Metadata:\n",
       "    'description': 'Severe acute respiratory syndrome coronavirus 2\n",
       "                    isolate Wuhan-Hu-1, complete genome'\n",
       "    'id': 'MN908947.3'\n",
       "Stats:\n",
       "    length: 29903\n",
       "-----------------------------------------------------------------------\n",
       "0     ATTAAAGGTT TATACCTTCC CAGGTAACAA ACCAACCAAC TTTCGATCTC TTGTAGATCT\n",
       "60    GTTCTCTAAA CGAACTTTAA AATCTGTGTG GCTGTCACTC GGCTGCATGC TTAGTGCACT\n",
       "...\n",
       "29820 TTTAGTAGTG CTATCCCCAT GTGATTTTAA TAGCTTCTTA GGAGAATGAC AAAAAAAAAA\n",
       "29880 AAAAAAAAAA AAAAAAAAAA AAA"
      ]
     },
     "execution_count": 102,
     "metadata": {},
     "output_type": "execute_result"
    }
   ],
   "source": [
    "# Method 2\n",
    "# Directly into A Sequence\n",
    "seq_file2 = Sequence.read('./datasets/sequence.fasta')\n",
    "\n",
    "seq_file2"
   ]
  },
  {
   "cell_type": "code",
   "execution_count": 104,
   "metadata": {},
   "outputs": [],
   "source": [
    "# dir(seq_file2)"
   ]
  },
  {
   "cell_type": "code",
   "execution_count": 105,
   "metadata": {},
   "outputs": [
    {
     "data": {
      "text/plain": [
       "DNA\n",
       "-----------------------------------------------------------------------\n",
       "Metadata:\n",
       "    'ACCESSION': 'MN908947'\n",
       "    'COMMENT': <class 'str'>\n",
       "    'DEFINITION': 'Severe acute respiratory syndrome coronavirus 2\n",
       "                   isolate Wuhan-Hu-1, complete genome.'\n",
       "    'KEYWORDS': '.'\n",
       "    'LOCUS': <class 'dict'>\n",
       "    'REFERENCE': <class 'list'>\n",
       "    'SOURCE': <class 'dict'>\n",
       "    'VERSION': 'MN908947.3'\n",
       "Interval metadata:\n",
       "    23 interval features\n",
       "Stats:\n",
       "    length: 29903\n",
       "    has gaps: False\n",
       "    has degenerates: False\n",
       "    has definites: True\n",
       "    GC-content: 37.97%\n",
       "-----------------------------------------------------------------------\n",
       "0     ATTAAAGGTT TATACCTTCC CAGGTAACAA ACCAACCAAC TTTCGATCTC TTGTAGATCT\n",
       "60    GTTCTCTAAA CGAACTTTAA AATCTGTGTG GCTGTCACTC GGCTGCATGC TTAGTGCACT\n",
       "...\n",
       "29820 TTTAGTAGTG CTATCCCCAT GTGATTTTAA TAGCTTCTTA GGAGAATGAC AAAAAAAAAA\n",
       "29880 AAAAAAAAAA AAAAAAAAAA AAA"
      ]
     },
     "execution_count": 105,
     "metadata": {},
     "output_type": "execute_result"
    }
   ],
   "source": [
    "# Method 3\n",
    "# Directly into A Sequence\n",
    "seq_file3 = DNA.read('./datasets/sequence.fasta')\n",
    "\n",
    "# Method 3\n",
    "# Directly into A Sequence\n",
    "seq_file4 = DNA.read('./datasets/sequence.gb')\n",
    "\n",
    "seq_file4"
   ]
  },
  {
   "cell_type": "code",
   "execution_count": null,
   "metadata": {},
   "outputs": [],
   "source": []
  },
  {
   "cell_type": "markdown",
   "metadata": {},
   "source": [
    "### Writing Sequences\n",
    "```python\n",
    "with StringIO() as fh:\n",
    "    print(dna_seq.write(fh).getvalue())\n",
    "```"
   ]
  },
  {
   "cell_type": "markdown",
   "metadata": {},
   "source": [
    "### Quering NCBI"
   ]
  },
  {
   "cell_type": "code",
   "execution_count": 106,
   "metadata": {},
   "outputs": [
    {
     "data": {
      "text/plain": [
       "GeneticCode (Trematode Mitochondrial)\n",
       "-------------------------------------------------------------------------\n",
       "  AAs  = FFLLSSSSYY**CCWWLLLLPPPPHHQQRRRRIIMMTTTTNNNKSSSSVVVVAAAADDEEGGGG\n",
       "Starts = -----------------------------------M---------------M------------\n",
       "Base1  = UUUUUUUUUUUUUUUUCCCCCCCCCCCCCCCCAAAAAAAAAAAAAAAAGGGGGGGGGGGGGGGG\n",
       "Base2  = UUUUCCCCAAAAGGGGUUUUCCCCAAAAGGGGUUUUCCCCAAAAGGGGUUUUCCCCAAAAGGGG\n",
       "Base3  = UCAGUCAGUCAGUCAGUCAGUCAGUCAGUCAGUCAGUCAGUCAGUCAGUCAGUCAGUCAGUCAG"
      ]
     },
     "execution_count": 106,
     "metadata": {},
     "output_type": "execute_result"
    }
   ],
   "source": [
    "species_mit = skbio.sequence.GeneticCode.from_ncbi(21)\n",
    "species_mit"
   ]
  },
  {
   "cell_type": "code",
   "execution_count": 108,
   "metadata": {},
   "outputs": [],
   "source": [
    "# dir(species_mit)"
   ]
  },
  {
   "cell_type": "code",
   "execution_count": 109,
   "metadata": {},
   "outputs": [
    {
     "data": {
      "text/plain": [
       "'Trematode Mitochondrial'"
      ]
     },
     "execution_count": 109,
     "metadata": {},
     "output_type": "execute_result"
    }
   ],
   "source": [
    "species_mit.name"
   ]
  },
  {
   "cell_type": "code",
   "execution_count": 110,
   "metadata": {},
   "outputs": [
    {
     "data": {
      "text/plain": [
       "[1, 2, 3, -1, -2, -3]"
      ]
     },
     "execution_count": 110,
     "metadata": {},
     "output_type": "execute_result"
    }
   ],
   "source": [
    "species_mit.reading_frames"
   ]
  },
  {
   "cell_type": "code",
   "execution_count": 111,
   "metadata": {},
   "outputs": [
    {
     "name": "stdout",
     "output_type": "stream",
     "text": [
      "TIS\n",
      "LS\n",
      "YQ\n",
      "TDS\n",
      "LM\n",
      "W*\n"
     ]
    }
   ],
   "source": [
    "mRNA1 = seq1.transcribe()\n",
    "\n",
    "for i in species_mit.translate_six_frames(mRNA1):\n",
    "    print(i)"
   ]
  },
  {
   "cell_type": "code",
   "execution_count": null,
   "metadata": {},
   "outputs": [],
   "source": []
  },
  {
   "cell_type": "code",
   "execution_count": null,
   "metadata": {},
   "outputs": [],
   "source": []
  }
 ],
 "metadata": {
  "kernelspec": {
   "display_name": "Python 3",
   "language": "python",
   "name": "python3"
  },
  "language_info": {
   "codemirror_mode": {
    "name": "ipython",
    "version": 3
   },
   "file_extension": ".py",
   "mimetype": "text/x-python",
   "name": "python",
   "nbconvert_exporter": "python",
   "pygments_lexer": "ipython3",
   "version": "3.7.6"
  }
 },
 "nbformat": 4,
 "nbformat_minor": 4
}
